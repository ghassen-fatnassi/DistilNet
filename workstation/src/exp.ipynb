{
 "cells": [
  {
   "cell_type": "code",
   "execution_count": 1,
   "metadata": {},
   "outputs": [
    {
     "name": "stdout",
     "output_type": "stream",
     "text": [
      "Collecting git+https://github.com/jlcsilva/segmentation_models.pytorch\n",
      "  Cloning https://github.com/jlcsilva/segmentation_models.pytorch to /tmp/pip-req-build-znzwzq2m\n",
      "  Running command git clone --filter=blob:none --quiet https://github.com/jlcsilva/segmentation_models.pytorch /tmp/pip-req-build-znzwzq2m\n",
      "  Resolved https://github.com/jlcsilva/segmentation_models.pytorch to commit 44a5593bfb1c8f2a3f5f23303c02e6f7e2f11170\n",
      "  Preparing metadata (setup.py) ... \u001b[?25ldone\n",
      "\u001b[?25hCollecting efficientnet-pytorch==0.6.3\n",
      "  Using cached efficientnet_pytorch-0.6.3.tar.gz (16 kB)\n",
      "  Preparing metadata (setup.py) ... \u001b[?25ldone\n",
      "\u001b[?25hRequirement already satisfied: pretrainedmodels==0.7.4 in /media/gaston/gaston1/pro/envs/actia/lib/python3.10/site-packages (from segmentation-models-pytorch==0.1.3) (0.7.4)\n",
      "Collecting timm==0.4.12\n",
      "  Using cached timm-0.4.12-py3-none-any.whl (376 kB)\n",
      "Requirement already satisfied: torchvision>=0.3.0 in /media/gaston/gaston1/pro/envs/actia/lib/python3.10/site-packages (from segmentation-models-pytorch==0.1.3) (0.18.1)\n",
      "Requirement already satisfied: torch in /media/gaston/gaston1/pro/envs/actia/lib/python3.10/site-packages (from efficientnet-pytorch==0.6.3->segmentation-models-pytorch==0.1.3) (2.3.1)\n",
      "Requirement already satisfied: munch in /media/gaston/gaston1/pro/envs/actia/lib/python3.10/site-packages (from pretrainedmodels==0.7.4->segmentation-models-pytorch==0.1.3) (4.0.0)\n",
      "Requirement already satisfied: tqdm in /media/gaston/gaston1/pro/envs/actia/lib/python3.10/site-packages (from pretrainedmodels==0.7.4->segmentation-models-pytorch==0.1.3) (4.66.4)\n",
      "Requirement already satisfied: numpy in /media/gaston/gaston1/pro/envs/actia/lib/python3.10/site-packages (from torchvision>=0.3.0->segmentation-models-pytorch==0.1.3) (1.26.4)\n",
      "Requirement already satisfied: pillow!=8.3.*,>=5.3.0 in /media/gaston/gaston1/pro/envs/actia/lib/python3.10/site-packages (from torchvision>=0.3.0->segmentation-models-pytorch==0.1.3) (10.4.0)\n",
      "Requirement already satisfied: nvidia-cuda-runtime-cu12==12.1.105 in /media/gaston/gaston1/pro/envs/actia/lib/python3.10/site-packages (from torch->efficientnet-pytorch==0.6.3->segmentation-models-pytorch==0.1.3) (12.1.105)\n",
      "Requirement already satisfied: nvidia-cudnn-cu12==8.9.2.26 in /media/gaston/gaston1/pro/envs/actia/lib/python3.10/site-packages (from torch->efficientnet-pytorch==0.6.3->segmentation-models-pytorch==0.1.3) (8.9.2.26)\n",
      "Requirement already satisfied: nvidia-cusparse-cu12==12.1.0.106 in /media/gaston/gaston1/pro/envs/actia/lib/python3.10/site-packages (from torch->efficientnet-pytorch==0.6.3->segmentation-models-pytorch==0.1.3) (12.1.0.106)\n",
      "Requirement already satisfied: filelock in /media/gaston/gaston1/pro/envs/actia/lib/python3.10/site-packages (from torch->efficientnet-pytorch==0.6.3->segmentation-models-pytorch==0.1.3) (3.15.4)\n",
      "Requirement already satisfied: nvidia-cuda-cupti-cu12==12.1.105 in /media/gaston/gaston1/pro/envs/actia/lib/python3.10/site-packages (from torch->efficientnet-pytorch==0.6.3->segmentation-models-pytorch==0.1.3) (12.1.105)\n",
      "Requirement already satisfied: fsspec in /media/gaston/gaston1/pro/envs/actia/lib/python3.10/site-packages (from torch->efficientnet-pytorch==0.6.3->segmentation-models-pytorch==0.1.3) (2024.6.1)\n",
      "Requirement already satisfied: nvidia-cufft-cu12==11.0.2.54 in /media/gaston/gaston1/pro/envs/actia/lib/python3.10/site-packages (from torch->efficientnet-pytorch==0.6.3->segmentation-models-pytorch==0.1.3) (11.0.2.54)\n",
      "Requirement already satisfied: typing-extensions>=4.8.0 in /media/gaston/gaston1/pro/envs/actia/lib/python3.10/site-packages (from torch->efficientnet-pytorch==0.6.3->segmentation-models-pytorch==0.1.3) (4.12.2)\n",
      "Requirement already satisfied: nvidia-curand-cu12==10.3.2.106 in /media/gaston/gaston1/pro/envs/actia/lib/python3.10/site-packages (from torch->efficientnet-pytorch==0.6.3->segmentation-models-pytorch==0.1.3) (10.3.2.106)\n",
      "Requirement already satisfied: nvidia-nccl-cu12==2.20.5 in /media/gaston/gaston1/pro/envs/actia/lib/python3.10/site-packages (from torch->efficientnet-pytorch==0.6.3->segmentation-models-pytorch==0.1.3) (2.20.5)\n",
      "Requirement already satisfied: triton==2.3.1 in /media/gaston/gaston1/pro/envs/actia/lib/python3.10/site-packages (from torch->efficientnet-pytorch==0.6.3->segmentation-models-pytorch==0.1.3) (2.3.1)\n",
      "Requirement already satisfied: networkx in /media/gaston/gaston1/pro/envs/actia/lib/python3.10/site-packages (from torch->efficientnet-pytorch==0.6.3->segmentation-models-pytorch==0.1.3) (3.3)\n",
      "Requirement already satisfied: nvidia-nvtx-cu12==12.1.105 in /media/gaston/gaston1/pro/envs/actia/lib/python3.10/site-packages (from torch->efficientnet-pytorch==0.6.3->segmentation-models-pytorch==0.1.3) (12.1.105)\n",
      "Requirement already satisfied: nvidia-cublas-cu12==12.1.3.1 in /media/gaston/gaston1/pro/envs/actia/lib/python3.10/site-packages (from torch->efficientnet-pytorch==0.6.3->segmentation-models-pytorch==0.1.3) (12.1.3.1)\n",
      "Requirement already satisfied: jinja2 in /media/gaston/gaston1/pro/envs/actia/lib/python3.10/site-packages (from torch->efficientnet-pytorch==0.6.3->segmentation-models-pytorch==0.1.3) (3.1.4)\n",
      "Requirement already satisfied: sympy in /media/gaston/gaston1/pro/envs/actia/lib/python3.10/site-packages (from torch->efficientnet-pytorch==0.6.3->segmentation-models-pytorch==0.1.3) (1.13.0)\n",
      "Requirement already satisfied: nvidia-cuda-nvrtc-cu12==12.1.105 in /media/gaston/gaston1/pro/envs/actia/lib/python3.10/site-packages (from torch->efficientnet-pytorch==0.6.3->segmentation-models-pytorch==0.1.3) (12.1.105)\n",
      "Requirement already satisfied: nvidia-cusolver-cu12==11.4.5.107 in /media/gaston/gaston1/pro/envs/actia/lib/python3.10/site-packages (from torch->efficientnet-pytorch==0.6.3->segmentation-models-pytorch==0.1.3) (11.4.5.107)\n",
      "Requirement already satisfied: nvidia-nvjitlink-cu12 in /media/gaston/gaston1/pro/envs/actia/lib/python3.10/site-packages (from nvidia-cusolver-cu12==11.4.5.107->torch->efficientnet-pytorch==0.6.3->segmentation-models-pytorch==0.1.3) (12.5.82)\n",
      "Requirement already satisfied: MarkupSafe>=2.0 in /media/gaston/gaston1/pro/envs/actia/lib/python3.10/site-packages (from jinja2->torch->efficientnet-pytorch==0.6.3->segmentation-models-pytorch==0.1.3) (2.1.5)\n",
      "Requirement already satisfied: mpmath<1.4,>=1.1.0 in /media/gaston/gaston1/pro/envs/actia/lib/python3.10/site-packages (from sympy->torch->efficientnet-pytorch==0.6.3->segmentation-models-pytorch==0.1.3) (1.3.0)\n",
      "Using legacy 'setup.py install' for segmentation-models-pytorch, since package 'wheel' is not installed.\n",
      "Using legacy 'setup.py install' for efficientnet-pytorch, since package 'wheel' is not installed.\n",
      "Installing collected packages: efficientnet-pytorch, timm, segmentation-models-pytorch\n",
      "  Attempting uninstall: efficientnet-pytorch\n",
      "    Found existing installation: efficientnet-pytorch 0.7.1\n",
      "    Uninstalling efficientnet-pytorch-0.7.1:\n",
      "      Successfully uninstalled efficientnet-pytorch-0.7.1\n",
      "  Running setup.py install for efficientnet-pytorch ... \u001b[?25ldone\n",
      "\u001b[?25h  Attempting uninstall: timm\n",
      "    Found existing installation: timm 0.9.7\n",
      "    Uninstalling timm-0.9.7:\n",
      "      Successfully uninstalled timm-0.9.7\n",
      "  Attempting uninstall: segmentation-models-pytorch\n",
      "    Found existing installation: segmentation_models_pytorch 0.3.4.dev0\n",
      "    Uninstalling segmentation_models_pytorch-0.3.4.dev0:\n",
      "      Successfully uninstalled segmentation_models_pytorch-0.3.4.dev0\n",
      "  Running setup.py install for segmentation-models-pytorch ... \u001b[?25ldone\n",
      "\u001b[?25hSuccessfully installed efficientnet-pytorch-0.6.3 segmentation-models-pytorch-0.1.3 timm-0.4.12\n",
      "Note: you may need to restart the kernel to use updated packages.\n"
     ]
    }
   ],
   "source": [
    "pip install -U git+https://github.com/jlcsilva/segmentation_models.pytorch\n"
   ]
  },
  {
   "cell_type": "code",
   "execution_count": 4,
   "metadata": {},
   "outputs": [
    {
     "name": "stderr",
     "output_type": "stream",
     "text": [
      "/media/gaston/gaston1/pro/envs/actia/lib/python3.10/site-packages/torch/cuda/__init__.py:619: UserWarning: Can't initialize NVML\n",
      "  warnings.warn(\"Can't initialize NVML\")\n",
      "/media/gaston/gaston1/pro/envs/actia/lib/python3.10/site-packages/tqdm/auto.py:21: TqdmWarning: IProgress not found. Please update jupyter and ipywidgets. See https://ipywidgets.readthedocs.io/en/stable/user_install.html\n",
      "  from .autonotebook import tqdm as notebook_tqdm\n"
     ]
    }
   ],
   "source": []
  },
  {
   "cell_type": "code",
   "execution_count": 8,
   "metadata": {},
   "outputs": [
    {
     "data": {
      "text/plain": [
       "====================================================================================================\n",
       "Layer (type:depth-idx)                             Output Shape              Param #\n",
       "====================================================================================================\n",
       "Res50Unet                                          [1, 19, 64, 64]           --\n",
       "├─UnetPlusPlus: 1-1                                [1, 19, 64, 64]           --\n",
       "│    └─ResNetEncoder: 2-1                          [1, 3, 64, 64]            14,964,736\n",
       "│    │    └─Conv2d: 3-1                            [1, 64, 32, 32]           (9,408)\n",
       "│    │    └─BatchNorm2d: 3-2                       [1, 64, 32, 32]           (128)\n",
       "│    │    └─ReLU: 3-3                              [1, 64, 32, 32]           --\n",
       "│    │    └─MaxPool2d: 3-4                         [1, 64, 16, 16]           --\n",
       "│    │    └─Sequential: 3-5                        [1, 256, 16, 16]          (215,808)\n",
       "│    │    └─Sequential: 3-6                        [1, 512, 8, 8]            (1,219,584)\n",
       "│    │    └─Sequential: 3-7                        [1, 1024, 4, 4]           (7,098,368)\n",
       "│    └─UnetPlusPlusDecoder: 2-2                    [1, 128, 64, 64]          --\n",
       "│    │    └─ModuleDict: 3-8                        --                        38,532,096\n",
       "│    └─SegmentationHead: 2-3                       [1, 19, 64, 64]           --\n",
       "│    │    └─Conv2d: 3-9                            [1, 19, 64, 64]           21,907\n",
       "│    │    └─Identity: 3-10                         [1, 19, 64, 64]           --\n",
       "│    │    └─Activation: 3-11                       [1, 19, 64, 64]           --\n",
       "====================================================================================================\n",
       "Total params: 62,062,035\n",
       "Trainable params: 38,554,003\n",
       "Non-trainable params: 23,508,032\n",
       "Total mult-adds (G): 9.45\n",
       "====================================================================================================\n",
       "Input size (MB): 0.05\n",
       "Forward/backward pass size (MB): 52.07\n",
       "Params size (MB): 188.39\n",
       "Estimated Total Size (MB): 240.51\n",
       "===================================================================================================="
      ]
     },
     "execution_count": 8,
     "metadata": {},
     "output_type": "execute_result"
    }
   ],
   "source": [
    "import torch.nn as nn\n",
    "import segmentation_models_pytorch as smp\n",
    "from torchinfo import summary\n",
    "class Res50Unet(nn.Module):\n",
    "    def __init__(self, num_classes, in_channels=3,start_filts=64, depth=4):\n",
    "        super().__init__()\n",
    "\n",
    "        self.num_classes = num_classes\n",
    "        self.in_channels = in_channels\n",
    "        self.depth = depth\n",
    "        self.start_filts=start_filts \n",
    "\n",
    "        decoder_channels=tuple([(2**i)*self.start_filts for i in range(self.depth,0,-1)])\n",
    "        self.model =  smp.UnetPlusPlus(\n",
    "            encoder_name='resnet50', \n",
    "            encoder_depth=self.depth, \n",
    "            encoder_weights='imagenet', \n",
    "            decoder_use_batchnorm=True, \n",
    "            decoder_channels=decoder_channels, \n",
    "            decoder_attention_type=None, \n",
    "            in_channels=self.in_channels, \n",
    "            classes=self.num_classes, \n",
    "            activation=None,\n",
    "            aux_params=None\n",
    "            )\n",
    "\n",
    "    def forward(self, inputs):\n",
    "        return self.model(inputs)\n",
    "    \n",
    "    def to(self,device):\n",
    "        self.model=self.model.to(device)\n",
    "        return super().to(device)\n",
    "    \n",
    "model0=Res50Unet(19,3,64,4)\n",
    "\n",
    "for param in model0.model.encoder.parameters():\n",
    "    param.requires_grad = False\n",
    "\n",
    "summary(model0, input_size=(1, 3,64,64))\n"
   ]
  },
  {
   "cell_type": "code",
   "execution_count": 2,
   "metadata": {},
   "outputs": [
    {
     "name": "stderr",
     "output_type": "stream",
     "text": [
      "Failed to detect the name of this notebook, you can set it manually with the WANDB_NOTEBOOK_NAME environment variable to enable code saving.\n",
      "\u001b[34m\u001b[1mwandb\u001b[0m: Logging into wandb.ai. (Learn how to deploy a W&B server locally: https://wandb.me/wandb-server)\n",
      "\u001b[34m\u001b[1mwandb\u001b[0m: You can find your API key in your browser here: https://wandb.ai/authorize\n",
      "\u001b[34m\u001b[1mwandb\u001b[0m: Paste an API key from your profile and hit enter, or press ctrl+c to quit:"
     ]
    }
   ],
   "source": [
    "import wandb\n",
    "import torch\n",
    "import torch.nn as nn\n",
    "import torch.optim as optim\n",
    "\n",
    "# Initialize a new wandb run\n",
    "wandb.init(project=\"your_project_name\")\n",
    "\n",
    "# Example model\n",
    "model =model0\n",
    "\n",
    "# Log the model graph to wandb\n",
    "wandb.watch(model, log=\"all\")\n",
    "\n",
    "# Dummy data\n",
    "inputs = torch.zeros(1, 1, 16, 16)\n",
    "targets = torch.zeros(1, 19, 16, 16)  # Adjust to match output shape\n",
    "\n",
    "# Define a simple loss function and optimizer\n",
    "criterion = nn.MSELoss()\n",
    "optimizer = optim.SGD(model.parameters(), lr=0.001, momentum=0.9)\n",
    "\n",
    "# Forward pass\n",
    "outputs = model(inputs)\n",
    "loss = criterion(outputs, targets)\n",
    "\n",
    "# Backward pass and optimization\n",
    "optimizer.zero_grad()\n",
    "loss.backward()\n",
    "optimizer.step()\n",
    "\n",
    "# Log metrics and save model\n",
    "wandb.log({\"loss\": loss.item()})\n",
    "wandb.save('model.pth')\n",
    "\n",
    "# Finish the wandb run\n",
    "wandb.finish()\n"
   ]
  },
  {
   "cell_type": "code",
   "execution_count": null,
   "metadata": {},
   "outputs": [],
   "source": [
    "\n",
    "model6=Res50UnetPP(num_classes=19,in_channels=3,start_filts=32,depth=4)\n",
    "# Print model summary using torchinfo\n",
    "summary(model6, input_size=(1, 3,256,256), device=device)"
   ]
  }
 ],
 "metadata": {
  "kernelspec": {
   "display_name": "actia",
   "language": "python",
   "name": "python3"
  },
  "language_info": {
   "codemirror_mode": {
    "name": "ipython",
    "version": 3
   },
   "file_extension": ".py",
   "mimetype": "text/x-python",
   "name": "python",
   "nbconvert_exporter": "python",
   "pygments_lexer": "ipython3",
   "version": "3.10.12"
  }
 },
 "nbformat": 4,
 "nbformat_minor": 2
}
